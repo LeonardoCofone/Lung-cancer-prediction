{
 "cells": [
  {
   "cell_type": "markdown",
   "id": "fbda3792",
   "metadata": {
    "papermill": {
     "duration": 0.008058,
     "end_time": "2025-04-26T12:46:03.871375",
     "exception": false,
     "start_time": "2025-04-26T12:46:03.863317",
     "status": "completed"
    },
    "tags": []
   },
   "source": [
    "# **LUNG CANCER PREDICTION**"
   ]
  },
  {
   "cell_type": "markdown",
   "id": "bc9232f4",
   "metadata": {
    "papermill": {
     "duration": 0.007379,
     "end_time": "2025-04-26T12:46:03.885899",
     "exception": false,
     "start_time": "2025-04-26T12:46:03.878520",
     "status": "completed"
    },
    "tags": []
   },
   "source": [
    "# **Powered by Leonardo Cofone**"
   ]
  },
  {
   "cell_type": "markdown",
   "id": "18ec3819",
   "metadata": {
    "papermill": {
     "duration": 0.005972,
     "end_time": "2025-04-26T12:46:03.898272",
     "exception": false,
     "start_time": "2025-04-26T12:46:03.892300",
     "status": "completed"
    },
    "tags": []
   },
   "source": [
    "#### In this project, we developed a **cancer prediction** model using advanced machine learning techniques. After testing various algorithms (Logistic Regression, Random Forest, SVM, Gradient Boosting, Decision Tree, and XGBoost), we selected the best models through RandomizedSearchCV for hyperparameter optimization. We then combined the top models (Random Forest and Gradient Boosting) using ensemble techniques: Voting and Stacking. To further improve performance, we fine-tuned the classification threshold by analyzing the ROC Curve and optimizing it based on Youden’s J statistic. The final model achieves an F1 Score of 0.98 on the test set, with an AUC of 0.996, demonstrating excellent predictive performance and a strong balance between precision and recall."
   ]
  },
  {
   "cell_type": "markdown",
   "id": "eff44af2",
   "metadata": {
    "papermill": {
     "duration": 0.006357,
     "end_time": "2025-04-26T12:46:03.911344",
     "exception": false,
     "start_time": "2025-04-26T12:46:03.904987",
     "status": "completed"
    },
    "tags": []
   },
   "source": [
    "## **1) INSTALL OLD LIBRARY FOR COMPATIBILITY**"
   ]
  },
  {
   "cell_type": "code",
   "execution_count": 1,
   "id": "59983915",
   "metadata": {
    "execution": {
     "iopub.execute_input": "2025-04-26T12:46:03.925884Z",
     "iopub.status.busy": "2025-04-26T12:46:03.925465Z",
     "iopub.status.idle": "2025-04-26T12:46:28.059633Z",
     "shell.execute_reply": "2025-04-26T12:46:28.058101Z"
    },
    "papermill": {
     "duration": 24.143806,
     "end_time": "2025-04-26T12:46:28.061789",
     "exception": false,
     "start_time": "2025-04-26T12:46:03.917983",
     "status": "completed"
    },
    "tags": []
   },
   "outputs": [
    {
     "name": "stdout",
     "output_type": "stream",
     "text": [
      "Found existing installation: scikit-learn 1.2.2\r\n",
      "Uninstalling scikit-learn-1.2.2:\r\n",
      "  Successfully uninstalled scikit-learn-1.2.2\r\n",
      "Found existing installation: category_encoders 2.7.0\r\n",
      "Uninstalling category_encoders-2.7.0:\r\n",
      "  Successfully uninstalled category_encoders-2.7.0\r\n",
      "Found existing installation: imbalanced-learn 0.13.0\r\n",
      "Uninstalling imbalanced-learn-0.13.0:\r\n",
      "  Successfully uninstalled imbalanced-learn-0.13.0\r\n",
      "Collecting scikit-learn==1.1.3\r\n",
      "  Downloading scikit_learn-1.1.3-cp311-cp311-manylinux_2_17_x86_64.manylinux2014_x86_64.whl.metadata (10 kB)\r\n",
      "Requirement already satisfied: numpy>=1.17.3 in /usr/local/lib/python3.11/dist-packages (from scikit-learn==1.1.3) (1.26.4)\r\n",
      "Requirement already satisfied: scipy>=1.3.2 in /usr/local/lib/python3.11/dist-packages (from scikit-learn==1.1.3) (1.15.2)\r\n",
      "Requirement already satisfied: joblib>=1.0.0 in /usr/local/lib/python3.11/dist-packages (from scikit-learn==1.1.3) (1.4.2)\r\n",
      "Requirement already satisfied: threadpoolctl>=2.0.0 in /usr/local/lib/python3.11/dist-packages (from scikit-learn==1.1.3) (3.6.0)\r\n",
      "Requirement already satisfied: mkl_fft in /usr/local/lib/python3.11/dist-packages (from numpy>=1.17.3->scikit-learn==1.1.3) (1.3.8)\r\n",
      "Requirement already satisfied: mkl_random in /usr/local/lib/python3.11/dist-packages (from numpy>=1.17.3->scikit-learn==1.1.3) (1.2.4)\r\n",
      "Requirement already satisfied: mkl_umath in /usr/local/lib/python3.11/dist-packages (from numpy>=1.17.3->scikit-learn==1.1.3) (0.1.1)\r\n",
      "Requirement already satisfied: mkl in /usr/local/lib/python3.11/dist-packages (from numpy>=1.17.3->scikit-learn==1.1.3) (2025.1.0)\r\n",
      "Requirement already satisfied: tbb4py in /usr/local/lib/python3.11/dist-packages (from numpy>=1.17.3->scikit-learn==1.1.3) (2022.1.0)\r\n",
      "Requirement already satisfied: mkl-service in /usr/local/lib/python3.11/dist-packages (from numpy>=1.17.3->scikit-learn==1.1.3) (2.4.1)\r\n",
      "Requirement already satisfied: intel-openmp<2026,>=2024 in /usr/local/lib/python3.11/dist-packages (from mkl->numpy>=1.17.3->scikit-learn==1.1.3) (2024.2.0)\r\n",
      "Requirement already satisfied: tbb==2022.* in /usr/local/lib/python3.11/dist-packages (from mkl->numpy>=1.17.3->scikit-learn==1.1.3) (2022.1.0)\r\n",
      "Requirement already satisfied: tcmlib==1.* in /usr/local/lib/python3.11/dist-packages (from tbb==2022.*->mkl->numpy>=1.17.3->scikit-learn==1.1.3) (1.2.0)\r\n",
      "Requirement already satisfied: intel-cmplr-lib-rt in /usr/local/lib/python3.11/dist-packages (from mkl_umath->numpy>=1.17.3->scikit-learn==1.1.3) (2024.2.0)\r\n",
      "Requirement already satisfied: intel-cmplr-lib-ur==2024.2.0 in /usr/local/lib/python3.11/dist-packages (from intel-openmp<2026,>=2024->mkl->numpy>=1.17.3->scikit-learn==1.1.3) (2024.2.0)\r\n",
      "Downloading scikit_learn-1.1.3-cp311-cp311-manylinux_2_17_x86_64.manylinux2014_x86_64.whl (32.0 MB)\r\n",
      "\u001b[2K   \u001b[90m━━━━━━━━━━━━━━━━━━━━━━━━━━━━━━━━━━━━━━━━\u001b[0m \u001b[32m32.0/32.0 MB\u001b[0m \u001b[31m46.0 MB/s\u001b[0m eta \u001b[36m0:00:00\u001b[0m\r\n",
      "\u001b[?25hInstalling collected packages: scikit-learn\r\n",
      "\u001b[31mERROR: pip's dependency resolver does not currently take into account all the packages that are installed. This behaviour is the source of the following dependency conflicts.\r\n",
      "nilearn 0.11.1 requires scikit-learn>=1.4.0, but you have scikit-learn 1.1.3 which is incompatible.\r\n",
      "sklearn-compat 0.1.3 requires scikit-learn<1.7,>=1.2, but you have scikit-learn 1.1.3 which is incompatible.\r\n",
      "bigframes 1.36.0 requires rich<14,>=12.4.4, but you have rich 14.0.0 which is incompatible.\r\n",
      "bigframes 1.36.0 requires scikit-learn>=1.2.2, but you have scikit-learn 1.1.3 which is incompatible.\r\n",
      "mlxtend 0.23.4 requires scikit-learn>=1.3.1, but you have scikit-learn 1.1.3 which is incompatible.\u001b[0m\u001b[31m\r\n",
      "\u001b[0mSuccessfully installed scikit-learn-1.1.3\r\n",
      "Collecting imbalanced-learn==0.9.1\r\n",
      "  Downloading imbalanced_learn-0.9.1-py3-none-any.whl.metadata (13 kB)\r\n",
      "Requirement already satisfied: numpy>=1.17.3 in /usr/local/lib/python3.11/dist-packages (from imbalanced-learn==0.9.1) (1.26.4)\r\n",
      "Requirement already satisfied: scipy>=1.3.2 in /usr/local/lib/python3.11/dist-packages (from imbalanced-learn==0.9.1) (1.15.2)\r\n",
      "Requirement already satisfied: scikit-learn>=1.1.0 in /usr/local/lib/python3.11/dist-packages (from imbalanced-learn==0.9.1) (1.1.3)\r\n",
      "Requirement already satisfied: joblib>=1.0.0 in /usr/local/lib/python3.11/dist-packages (from imbalanced-learn==0.9.1) (1.4.2)\r\n",
      "Requirement already satisfied: threadpoolctl>=2.0.0 in /usr/local/lib/python3.11/dist-packages (from imbalanced-learn==0.9.1) (3.6.0)\r\n",
      "Requirement already satisfied: mkl_fft in /usr/local/lib/python3.11/dist-packages (from numpy>=1.17.3->imbalanced-learn==0.9.1) (1.3.8)\r\n",
      "Requirement already satisfied: mkl_random in /usr/local/lib/python3.11/dist-packages (from numpy>=1.17.3->imbalanced-learn==0.9.1) (1.2.4)\r\n",
      "Requirement already satisfied: mkl_umath in /usr/local/lib/python3.11/dist-packages (from numpy>=1.17.3->imbalanced-learn==0.9.1) (0.1.1)\r\n",
      "Requirement already satisfied: mkl in /usr/local/lib/python3.11/dist-packages (from numpy>=1.17.3->imbalanced-learn==0.9.1) (2025.1.0)\r\n",
      "Requirement already satisfied: tbb4py in /usr/local/lib/python3.11/dist-packages (from numpy>=1.17.3->imbalanced-learn==0.9.1) (2022.1.0)\r\n",
      "Requirement already satisfied: mkl-service in /usr/local/lib/python3.11/dist-packages (from numpy>=1.17.3->imbalanced-learn==0.9.1) (2.4.1)\r\n",
      "Requirement already satisfied: intel-openmp<2026,>=2024 in /usr/local/lib/python3.11/dist-packages (from mkl->numpy>=1.17.3->imbalanced-learn==0.9.1) (2024.2.0)\r\n",
      "Requirement already satisfied: tbb==2022.* in /usr/local/lib/python3.11/dist-packages (from mkl->numpy>=1.17.3->imbalanced-learn==0.9.1) (2022.1.0)\r\n",
      "Requirement already satisfied: tcmlib==1.* in /usr/local/lib/python3.11/dist-packages (from tbb==2022.*->mkl->numpy>=1.17.3->imbalanced-learn==0.9.1) (1.2.0)\r\n",
      "Requirement already satisfied: intel-cmplr-lib-rt in /usr/local/lib/python3.11/dist-packages (from mkl_umath->numpy>=1.17.3->imbalanced-learn==0.9.1) (2024.2.0)\r\n",
      "Requirement already satisfied: intel-cmplr-lib-ur==2024.2.0 in /usr/local/lib/python3.11/dist-packages (from intel-openmp<2026,>=2024->mkl->numpy>=1.17.3->imbalanced-learn==0.9.1) (2024.2.0)\r\n",
      "Downloading imbalanced_learn-0.9.1-py3-none-any.whl (199 kB)\r\n",
      "\u001b[2K   \u001b[90m━━━━━━━━━━━━━━━━━━━━━━━━━━━━━━━━━━━━━━━━\u001b[0m \u001b[32m199.3/199.3 kB\u001b[0m \u001b[31m4.0 MB/s\u001b[0m eta \u001b[36m0:00:00\u001b[0m\r\n",
      "\u001b[?25hInstalling collected packages: imbalanced-learn\r\n",
      "Successfully installed imbalanced-learn-0.9.1\r\n",
      "Name: scikit-learn\r\n",
      "Version: 1.1.3\r\n",
      "Summary: A set of python modules for machine learning and data mining\r\n",
      "Home-page: http://scikit-learn.org\r\n",
      "Author: \r\n",
      "Author-email: \r\n",
      "License: new BSD\r\n",
      "Location: /usr/local/lib/python3.11/dist-packages\r\n",
      "Requires: joblib, numpy, scipy, threadpoolctl\r\n",
      "Required-by: bayesian-optimization, bigframes, Boruta, cesium, eli5, fastai, hep_ml, imbalanced-learn, librosa, lime, mlxtend, nilearn, pyLDAvis, rgf-python, scikit-learn-intelex, scikit-optimize, scikit-plot, sentence-transformers, shap, sklearn-compat, sklearn-pandas, TPOT, tsfresh, woodwork, yellowbrick\r\n",
      "Name: imbalanced-learn\r\n",
      "Version: 0.9.1\r\n",
      "Summary: Toolbox for imbalanced dataset in machine learning.\r\n",
      "Home-page: https://github.com/scikit-learn-contrib/imbalanced-learn\r\n",
      "Author: \r\n",
      "Author-email: \r\n",
      "License: MIT\r\n",
      "Location: /usr/local/lib/python3.11/dist-packages\r\n",
      "Requires: joblib, numpy, scikit-learn, scipy, threadpoolctl\r\n",
      "Required-by: \r\n"
     ]
    }
   ],
   "source": [
    "#install old libraries for compatibility\n",
    "!pip uninstall -y scikit-learn\n",
    "!pip uninstall -y category-encoders\n",
    "!pip uninstall -y imbalanced-learn\n",
    "\n",
    "!pip install scikit-learn==1.1.3\n",
    "!pip install imbalanced-learn==0.9.1\n",
    "\n",
    "\n",
    "!pip show scikit-learn\n",
    "!pip show imbalanced-learn"
   ]
  },
  {
   "cell_type": "markdown",
   "id": "6c4c2e59",
   "metadata": {
    "papermill": {
     "duration": 0.007892,
     "end_time": "2025-04-26T12:46:28.079095",
     "exception": false,
     "start_time": "2025-04-26T12:46:28.071203",
     "status": "completed"
    },
    "tags": []
   },
   "source": [
    "### **All correct, let's deep into the data**"
   ]
  },
  {
   "cell_type": "markdown",
   "id": "30e6f8db",
   "metadata": {
    "papermill": {
     "duration": 0.00766,
     "end_time": "2025-04-26T12:46:28.095182",
     "exception": false,
     "start_time": "2025-04-26T12:46:28.087522",
     "status": "completed"
    },
    "tags": []
   },
   "source": [
    "## **2) ANALYZE AND WORK ON DATA**"
   ]
  },
  {
   "cell_type": "code",
   "execution_count": 2,
   "id": "95391d81",
   "metadata": {
    "execution": {
     "iopub.execute_input": "2025-04-26T12:46:28.113141Z",
     "iopub.status.busy": "2025-04-26T12:46:28.112780Z",
     "iopub.status.idle": "2025-04-26T12:46:48.135434Z",
     "shell.execute_reply": "2025-04-26T12:46:48.134238Z"
    },
    "papermill": {
     "duration": 20.033754,
     "end_time": "2025-04-26T12:46:48.137238",
     "exception": false,
     "start_time": "2025-04-26T12:46:28.103484",
     "status": "completed"
    },
    "tags": []
   },
   "outputs": [
    {
     "name": "stderr",
     "output_type": "stream",
     "text": [
      "2025-04-26 12:46:32.167179: E external/local_xla/xla/stream_executor/cuda/cuda_fft.cc:477] Unable to register cuFFT factory: Attempting to register factory for plugin cuFFT when one has already been registered\n",
      "WARNING: All log messages before absl::InitializeLog() is called are written to STDERR\n",
      "E0000 00:00:1745671592.455769      13 cuda_dnn.cc:8310] Unable to register cuDNN factory: Attempting to register factory for plugin cuDNN when one has already been registered\n",
      "E0000 00:00:1745671592.543432      13 cuda_blas.cc:1418] Unable to register cuBLAS factory: Attempting to register factory for plugin cuBLAS when one has already been registered\n"
     ]
    }
   ],
   "source": [
    "import numpy as np\n",
    "import pandas as pd\n",
    "import tensorflow as tf\n",
    "import warnings\n",
    "warnings.filterwarnings('ignore')\n",
    "\n",
    "data = pd.read_csv('/kaggle/input/lung-cancer/survey lung cancer.csv')"
   ]
  },
  {
   "cell_type": "code",
   "execution_count": 3,
   "id": "6bc9ffb3",
   "metadata": {
    "execution": {
     "iopub.execute_input": "2025-04-26T12:46:48.156335Z",
     "iopub.status.busy": "2025-04-26T12:46:48.155536Z",
     "iopub.status.idle": "2025-04-26T12:46:48.187183Z",
     "shell.execute_reply": "2025-04-26T12:46:48.186225Z"
    },
    "papermill": {
     "duration": 0.042151,
     "end_time": "2025-04-26T12:46:48.188641",
     "exception": false,
     "start_time": "2025-04-26T12:46:48.146490",
     "status": "completed"
    },
    "tags": []
   },
   "outputs": [
    {
     "data": {
      "text/html": [
       "<div>\n",
       "<style scoped>\n",
       "    .dataframe tbody tr th:only-of-type {\n",
       "        vertical-align: middle;\n",
       "    }\n",
       "\n",
       "    .dataframe tbody tr th {\n",
       "        vertical-align: top;\n",
       "    }\n",
       "\n",
       "    .dataframe thead th {\n",
       "        text-align: right;\n",
       "    }\n",
       "</style>\n",
       "<table border=\"1\" class=\"dataframe\">\n",
       "  <thead>\n",
       "    <tr style=\"text-align: right;\">\n",
       "      <th></th>\n",
       "      <th>GENDER</th>\n",
       "      <th>AGE</th>\n",
       "      <th>SMOKING</th>\n",
       "      <th>YELLOW_FINGERS</th>\n",
       "      <th>ANXIETY</th>\n",
       "      <th>PEER_PRESSURE</th>\n",
       "      <th>CHRONIC DISEASE</th>\n",
       "      <th>FATIGUE</th>\n",
       "      <th>ALLERGY</th>\n",
       "      <th>WHEEZING</th>\n",
       "      <th>ALCOHOL CONSUMING</th>\n",
       "      <th>COUGHING</th>\n",
       "      <th>SHORTNESS OF BREATH</th>\n",
       "      <th>SWALLOWING DIFFICULTY</th>\n",
       "      <th>CHEST PAIN</th>\n",
       "      <th>LUNG_CANCER</th>\n",
       "    </tr>\n",
       "  </thead>\n",
       "  <tbody>\n",
       "    <tr>\n",
       "      <th>0</th>\n",
       "      <td>M</td>\n",
       "      <td>69</td>\n",
       "      <td>1</td>\n",
       "      <td>2</td>\n",
       "      <td>2</td>\n",
       "      <td>1</td>\n",
       "      <td>1</td>\n",
       "      <td>2</td>\n",
       "      <td>1</td>\n",
       "      <td>2</td>\n",
       "      <td>2</td>\n",
       "      <td>2</td>\n",
       "      <td>2</td>\n",
       "      <td>2</td>\n",
       "      <td>2</td>\n",
       "      <td>YES</td>\n",
       "    </tr>\n",
       "    <tr>\n",
       "      <th>1</th>\n",
       "      <td>M</td>\n",
       "      <td>74</td>\n",
       "      <td>2</td>\n",
       "      <td>1</td>\n",
       "      <td>1</td>\n",
       "      <td>1</td>\n",
       "      <td>2</td>\n",
       "      <td>2</td>\n",
       "      <td>2</td>\n",
       "      <td>1</td>\n",
       "      <td>1</td>\n",
       "      <td>1</td>\n",
       "      <td>2</td>\n",
       "      <td>2</td>\n",
       "      <td>2</td>\n",
       "      <td>YES</td>\n",
       "    </tr>\n",
       "    <tr>\n",
       "      <th>2</th>\n",
       "      <td>F</td>\n",
       "      <td>59</td>\n",
       "      <td>1</td>\n",
       "      <td>1</td>\n",
       "      <td>1</td>\n",
       "      <td>2</td>\n",
       "      <td>1</td>\n",
       "      <td>2</td>\n",
       "      <td>1</td>\n",
       "      <td>2</td>\n",
       "      <td>1</td>\n",
       "      <td>2</td>\n",
       "      <td>2</td>\n",
       "      <td>1</td>\n",
       "      <td>2</td>\n",
       "      <td>NO</td>\n",
       "    </tr>\n",
       "    <tr>\n",
       "      <th>3</th>\n",
       "      <td>M</td>\n",
       "      <td>63</td>\n",
       "      <td>2</td>\n",
       "      <td>2</td>\n",
       "      <td>2</td>\n",
       "      <td>1</td>\n",
       "      <td>1</td>\n",
       "      <td>1</td>\n",
       "      <td>1</td>\n",
       "      <td>1</td>\n",
       "      <td>2</td>\n",
       "      <td>1</td>\n",
       "      <td>1</td>\n",
       "      <td>2</td>\n",
       "      <td>2</td>\n",
       "      <td>NO</td>\n",
       "    </tr>\n",
       "    <tr>\n",
       "      <th>4</th>\n",
       "      <td>F</td>\n",
       "      <td>63</td>\n",
       "      <td>1</td>\n",
       "      <td>2</td>\n",
       "      <td>1</td>\n",
       "      <td>1</td>\n",
       "      <td>1</td>\n",
       "      <td>1</td>\n",
       "      <td>1</td>\n",
       "      <td>2</td>\n",
       "      <td>1</td>\n",
       "      <td>2</td>\n",
       "      <td>2</td>\n",
       "      <td>1</td>\n",
       "      <td>1</td>\n",
       "      <td>NO</td>\n",
       "    </tr>\n",
       "  </tbody>\n",
       "</table>\n",
       "</div>"
      ],
      "text/plain": [
       "  GENDER  AGE  SMOKING  YELLOW_FINGERS  ANXIETY  PEER_PRESSURE  \\\n",
       "0      M   69        1               2        2              1   \n",
       "1      M   74        2               1        1              1   \n",
       "2      F   59        1               1        1              2   \n",
       "3      M   63        2               2        2              1   \n",
       "4      F   63        1               2        1              1   \n",
       "\n",
       "   CHRONIC DISEASE  FATIGUE   ALLERGY   WHEEZING  ALCOHOL CONSUMING  COUGHING  \\\n",
       "0                1         2         1         2                  2         2   \n",
       "1                2         2         2         1                  1         1   \n",
       "2                1         2         1         2                  1         2   \n",
       "3                1         1         1         1                  2         1   \n",
       "4                1         1         1         2                  1         2   \n",
       "\n",
       "   SHORTNESS OF BREATH  SWALLOWING DIFFICULTY  CHEST PAIN LUNG_CANCER  \n",
       "0                    2                      2           2         YES  \n",
       "1                    2                      2           2         YES  \n",
       "2                    2                      1           2          NO  \n",
       "3                    1                      2           2          NO  \n",
       "4                    2                      1           1          NO  "
      ]
     },
     "execution_count": 3,
     "metadata": {},
     "output_type": "execute_result"
    }
   ],
   "source": [
    "data.head()"
   ]
  },
  {
   "cell_type": "code",
   "execution_count": 4,
   "id": "d86c259d",
   "metadata": {
    "execution": {
     "iopub.execute_input": "2025-04-26T12:46:48.207210Z",
     "iopub.status.busy": "2025-04-26T12:46:48.206775Z",
     "iopub.status.idle": "2025-04-26T12:46:48.235747Z",
     "shell.execute_reply": "2025-04-26T12:46:48.234507Z"
    },
    "papermill": {
     "duration": 0.040371,
     "end_time": "2025-04-26T12:46:48.237454",
     "exception": false,
     "start_time": "2025-04-26T12:46:48.197083",
     "status": "completed"
    },
    "tags": []
   },
   "outputs": [
    {
     "name": "stdout",
     "output_type": "stream",
     "text": [
      "<class 'pandas.core.frame.DataFrame'>\n",
      "RangeIndex: 309 entries, 0 to 308\n",
      "Data columns (total 16 columns):\n",
      " #   Column                 Non-Null Count  Dtype \n",
      "---  ------                 --------------  ----- \n",
      " 0   GENDER                 309 non-null    object\n",
      " 1   AGE                    309 non-null    int64 \n",
      " 2   SMOKING                309 non-null    int64 \n",
      " 3   YELLOW_FINGERS         309 non-null    int64 \n",
      " 4   ANXIETY                309 non-null    int64 \n",
      " 5   PEER_PRESSURE          309 non-null    int64 \n",
      " 6   CHRONIC DISEASE        309 non-null    int64 \n",
      " 7   FATIGUE                309 non-null    int64 \n",
      " 8   ALLERGY                309 non-null    int64 \n",
      " 9   WHEEZING               309 non-null    int64 \n",
      " 10  ALCOHOL CONSUMING      309 non-null    int64 \n",
      " 11  COUGHING               309 non-null    int64 \n",
      " 12  SHORTNESS OF BREATH    309 non-null    int64 \n",
      " 13  SWALLOWING DIFFICULTY  309 non-null    int64 \n",
      " 14  CHEST PAIN             309 non-null    int64 \n",
      " 15  LUNG_CANCER            309 non-null    object\n",
      "dtypes: int64(14), object(2)\n",
      "memory usage: 38.8+ KB\n"
     ]
    }
   ],
   "source": [
    "data.info()"
   ]
  },
  {
   "cell_type": "code",
   "execution_count": 5,
   "id": "9531e45f",
   "metadata": {
    "execution": {
     "iopub.execute_input": "2025-04-26T12:46:48.256465Z",
     "iopub.status.busy": "2025-04-26T12:46:48.256153Z",
     "iopub.status.idle": "2025-04-26T12:46:48.297948Z",
     "shell.execute_reply": "2025-04-26T12:46:48.296776Z"
    },
    "papermill": {
     "duration": 0.053773,
     "end_time": "2025-04-26T12:46:48.300401",
     "exception": false,
     "start_time": "2025-04-26T12:46:48.246628",
     "status": "completed"
    },
    "tags": []
   },
   "outputs": [
    {
     "data": {
      "text/html": [
       "<div>\n",
       "<style scoped>\n",
       "    .dataframe tbody tr th:only-of-type {\n",
       "        vertical-align: middle;\n",
       "    }\n",
       "\n",
       "    .dataframe tbody tr th {\n",
       "        vertical-align: top;\n",
       "    }\n",
       "\n",
       "    .dataframe thead th {\n",
       "        text-align: right;\n",
       "    }\n",
       "</style>\n",
       "<table border=\"1\" class=\"dataframe\">\n",
       "  <thead>\n",
       "    <tr style=\"text-align: right;\">\n",
       "      <th></th>\n",
       "      <th>AGE</th>\n",
       "      <th>SMOKING</th>\n",
       "      <th>YELLOW_FINGERS</th>\n",
       "      <th>ANXIETY</th>\n",
       "      <th>PEER_PRESSURE</th>\n",
       "      <th>CHRONIC DISEASE</th>\n",
       "      <th>FATIGUE</th>\n",
       "      <th>ALLERGY</th>\n",
       "      <th>WHEEZING</th>\n",
       "      <th>ALCOHOL CONSUMING</th>\n",
       "      <th>COUGHING</th>\n",
       "      <th>SHORTNESS OF BREATH</th>\n",
       "      <th>SWALLOWING DIFFICULTY</th>\n",
       "      <th>CHEST PAIN</th>\n",
       "    </tr>\n",
       "  </thead>\n",
       "  <tbody>\n",
       "    <tr>\n",
       "      <th>count</th>\n",
       "      <td>309.000000</td>\n",
       "      <td>309.000000</td>\n",
       "      <td>309.000000</td>\n",
       "      <td>309.000000</td>\n",
       "      <td>309.000000</td>\n",
       "      <td>309.000000</td>\n",
       "      <td>309.000000</td>\n",
       "      <td>309.000000</td>\n",
       "      <td>309.000000</td>\n",
       "      <td>309.000000</td>\n",
       "      <td>309.000000</td>\n",
       "      <td>309.000000</td>\n",
       "      <td>309.000000</td>\n",
       "      <td>309.000000</td>\n",
       "    </tr>\n",
       "    <tr>\n",
       "      <th>mean</th>\n",
       "      <td>62.673139</td>\n",
       "      <td>1.563107</td>\n",
       "      <td>1.569579</td>\n",
       "      <td>1.498382</td>\n",
       "      <td>1.501618</td>\n",
       "      <td>1.504854</td>\n",
       "      <td>1.673139</td>\n",
       "      <td>1.556634</td>\n",
       "      <td>1.556634</td>\n",
       "      <td>1.556634</td>\n",
       "      <td>1.579288</td>\n",
       "      <td>1.640777</td>\n",
       "      <td>1.469256</td>\n",
       "      <td>1.556634</td>\n",
       "    </tr>\n",
       "    <tr>\n",
       "      <th>std</th>\n",
       "      <td>8.210301</td>\n",
       "      <td>0.496806</td>\n",
       "      <td>0.495938</td>\n",
       "      <td>0.500808</td>\n",
       "      <td>0.500808</td>\n",
       "      <td>0.500787</td>\n",
       "      <td>0.469827</td>\n",
       "      <td>0.497588</td>\n",
       "      <td>0.497588</td>\n",
       "      <td>0.497588</td>\n",
       "      <td>0.494474</td>\n",
       "      <td>0.480551</td>\n",
       "      <td>0.499863</td>\n",
       "      <td>0.497588</td>\n",
       "    </tr>\n",
       "    <tr>\n",
       "      <th>min</th>\n",
       "      <td>21.000000</td>\n",
       "      <td>1.000000</td>\n",
       "      <td>1.000000</td>\n",
       "      <td>1.000000</td>\n",
       "      <td>1.000000</td>\n",
       "      <td>1.000000</td>\n",
       "      <td>1.000000</td>\n",
       "      <td>1.000000</td>\n",
       "      <td>1.000000</td>\n",
       "      <td>1.000000</td>\n",
       "      <td>1.000000</td>\n",
       "      <td>1.000000</td>\n",
       "      <td>1.000000</td>\n",
       "      <td>1.000000</td>\n",
       "    </tr>\n",
       "    <tr>\n",
       "      <th>25%</th>\n",
       "      <td>57.000000</td>\n",
       "      <td>1.000000</td>\n",
       "      <td>1.000000</td>\n",
       "      <td>1.000000</td>\n",
       "      <td>1.000000</td>\n",
       "      <td>1.000000</td>\n",
       "      <td>1.000000</td>\n",
       "      <td>1.000000</td>\n",
       "      <td>1.000000</td>\n",
       "      <td>1.000000</td>\n",
       "      <td>1.000000</td>\n",
       "      <td>1.000000</td>\n",
       "      <td>1.000000</td>\n",
       "      <td>1.000000</td>\n",
       "    </tr>\n",
       "    <tr>\n",
       "      <th>50%</th>\n",
       "      <td>62.000000</td>\n",
       "      <td>2.000000</td>\n",
       "      <td>2.000000</td>\n",
       "      <td>1.000000</td>\n",
       "      <td>2.000000</td>\n",
       "      <td>2.000000</td>\n",
       "      <td>2.000000</td>\n",
       "      <td>2.000000</td>\n",
       "      <td>2.000000</td>\n",
       "      <td>2.000000</td>\n",
       "      <td>2.000000</td>\n",
       "      <td>2.000000</td>\n",
       "      <td>1.000000</td>\n",
       "      <td>2.000000</td>\n",
       "    </tr>\n",
       "    <tr>\n",
       "      <th>75%</th>\n",
       "      <td>69.000000</td>\n",
       "      <td>2.000000</td>\n",
       "      <td>2.000000</td>\n",
       "      <td>2.000000</td>\n",
       "      <td>2.000000</td>\n",
       "      <td>2.000000</td>\n",
       "      <td>2.000000</td>\n",
       "      <td>2.000000</td>\n",
       "      <td>2.000000</td>\n",
       "      <td>2.000000</td>\n",
       "      <td>2.000000</td>\n",
       "      <td>2.000000</td>\n",
       "      <td>2.000000</td>\n",
       "      <td>2.000000</td>\n",
       "    </tr>\n",
       "    <tr>\n",
       "      <th>max</th>\n",
       "      <td>87.000000</td>\n",
       "      <td>2.000000</td>\n",
       "      <td>2.000000</td>\n",
       "      <td>2.000000</td>\n",
       "      <td>2.000000</td>\n",
       "      <td>2.000000</td>\n",
       "      <td>2.000000</td>\n",
       "      <td>2.000000</td>\n",
       "      <td>2.000000</td>\n",
       "      <td>2.000000</td>\n",
       "      <td>2.000000</td>\n",
       "      <td>2.000000</td>\n",
       "      <td>2.000000</td>\n",
       "      <td>2.000000</td>\n",
       "    </tr>\n",
       "  </tbody>\n",
       "</table>\n",
       "</div>"
      ],
      "text/plain": [
       "              AGE     SMOKING  YELLOW_FINGERS     ANXIETY  PEER_PRESSURE  \\\n",
       "count  309.000000  309.000000      309.000000  309.000000     309.000000   \n",
       "mean    62.673139    1.563107        1.569579    1.498382       1.501618   \n",
       "std      8.210301    0.496806        0.495938    0.500808       0.500808   \n",
       "min     21.000000    1.000000        1.000000    1.000000       1.000000   \n",
       "25%     57.000000    1.000000        1.000000    1.000000       1.000000   \n",
       "50%     62.000000    2.000000        2.000000    1.000000       2.000000   \n",
       "75%     69.000000    2.000000        2.000000    2.000000       2.000000   \n",
       "max     87.000000    2.000000        2.000000    2.000000       2.000000   \n",
       "\n",
       "       CHRONIC DISEASE    FATIGUE     ALLERGY     WHEEZING  ALCOHOL CONSUMING  \\\n",
       "count       309.000000  309.000000  309.000000  309.000000         309.000000   \n",
       "mean          1.504854    1.673139    1.556634    1.556634           1.556634   \n",
       "std           0.500787    0.469827    0.497588    0.497588           0.497588   \n",
       "min           1.000000    1.000000    1.000000    1.000000           1.000000   \n",
       "25%           1.000000    1.000000    1.000000    1.000000           1.000000   \n",
       "50%           2.000000    2.000000    2.000000    2.000000           2.000000   \n",
       "75%           2.000000    2.000000    2.000000    2.000000           2.000000   \n",
       "max           2.000000    2.000000    2.000000    2.000000           2.000000   \n",
       "\n",
       "         COUGHING  SHORTNESS OF BREATH  SWALLOWING DIFFICULTY  CHEST PAIN  \n",
       "count  309.000000           309.000000             309.000000  309.000000  \n",
       "mean     1.579288             1.640777               1.469256    1.556634  \n",
       "std      0.494474             0.480551               0.499863    0.497588  \n",
       "min      1.000000             1.000000               1.000000    1.000000  \n",
       "25%      1.000000             1.000000               1.000000    1.000000  \n",
       "50%      2.000000             2.000000               1.000000    2.000000  \n",
       "75%      2.000000             2.000000               2.000000    2.000000  \n",
       "max      2.000000             2.000000               2.000000    2.000000  "
      ]
     },
     "execution_count": 5,
     "metadata": {},
     "output_type": "execute_result"
    }
   ],
   "source": [
    "data.describe()"
   ]
  },
  {
   "cell_type": "code",
   "execution_count": 6,
   "id": "85d6b67e",
   "metadata": {
    "execution": {
     "iopub.execute_input": "2025-04-26T12:46:48.325918Z",
     "iopub.status.busy": "2025-04-26T12:46:48.325540Z",
     "iopub.status.idle": "2025-04-26T12:46:48.331874Z",
     "shell.execute_reply": "2025-04-26T12:46:48.331067Z"
    },
    "papermill": {
     "duration": 0.018827,
     "end_time": "2025-04-26T12:46:48.333263",
     "exception": false,
     "start_time": "2025-04-26T12:46:48.314436",
     "status": "completed"
    },
    "tags": []
   },
   "outputs": [
    {
     "data": {
      "text/plain": [
       "(309, 16)"
      ]
     },
     "execution_count": 6,
     "metadata": {},
     "output_type": "execute_result"
    }
   ],
   "source": [
    "data.shape"
   ]
  },
  {
   "cell_type": "code",
   "execution_count": 7,
   "id": "870d7165",
   "metadata": {
    "execution": {
     "iopub.execute_input": "2025-04-26T12:46:48.353480Z",
     "iopub.status.busy": "2025-04-26T12:46:48.353172Z",
     "iopub.status.idle": "2025-04-26T12:46:48.361224Z",
     "shell.execute_reply": "2025-04-26T12:46:48.360198Z"
    },
    "papermill": {
     "duration": 0.01996,
     "end_time": "2025-04-26T12:46:48.363076",
     "exception": false,
     "start_time": "2025-04-26T12:46:48.343116",
     "status": "completed"
    },
    "tags": []
   },
   "outputs": [
    {
     "data": {
      "text/plain": [
       "GENDER                   0\n",
       "AGE                      0\n",
       "SMOKING                  0\n",
       "YELLOW_FINGERS           0\n",
       "ANXIETY                  0\n",
       "PEER_PRESSURE            0\n",
       "CHRONIC DISEASE          0\n",
       "FATIGUE                  0\n",
       "ALLERGY                  0\n",
       "WHEEZING                 0\n",
       "ALCOHOL CONSUMING        0\n",
       "COUGHING                 0\n",
       "SHORTNESS OF BREATH      0\n",
       "SWALLOWING DIFFICULTY    0\n",
       "CHEST PAIN               0\n",
       "LUNG_CANCER              0\n",
       "dtype: int64"
      ]
     },
     "execution_count": 7,
     "metadata": {},
     "output_type": "execute_result"
    }
   ],
   "source": [
    "data.isnull().sum()"
   ]
  },
  {
   "cell_type": "code",
   "execution_count": 8,
   "id": "72fa5ba5",
   "metadata": {
    "execution": {
     "iopub.execute_input": "2025-04-26T12:46:48.385557Z",
     "iopub.status.busy": "2025-04-26T12:46:48.385178Z",
     "iopub.status.idle": "2025-04-26T12:46:48.393668Z",
     "shell.execute_reply": "2025-04-26T12:46:48.392960Z"
    },
    "papermill": {
     "duration": 0.022828,
     "end_time": "2025-04-26T12:46:48.395189",
     "exception": false,
     "start_time": "2025-04-26T12:46:48.372361",
     "status": "completed"
    },
    "tags": []
   },
   "outputs": [
    {
     "data": {
      "text/plain": [
       "33"
      ]
     },
     "execution_count": 8,
     "metadata": {},
     "output_type": "execute_result"
    }
   ],
   "source": [
    "data.duplicated().sum()"
   ]
  },
  {
   "cell_type": "code",
   "execution_count": 9,
   "id": "64fb0128",
   "metadata": {
    "execution": {
     "iopub.execute_input": "2025-04-26T12:46:48.487955Z",
     "iopub.status.busy": "2025-04-26T12:46:48.487585Z",
     "iopub.status.idle": "2025-04-26T12:46:48.500007Z",
     "shell.execute_reply": "2025-04-26T12:46:48.498986Z"
    },
    "papermill": {
     "duration": 0.024464,
     "end_time": "2025-04-26T12:46:48.501810",
     "exception": false,
     "start_time": "2025-04-26T12:46:48.477346",
     "status": "completed"
    },
    "tags": []
   },
   "outputs": [
    {
     "data": {
      "text/plain": [
       "(276, 16)"
      ]
     },
     "execution_count": 9,
     "metadata": {},
     "output_type": "execute_result"
    }
   ],
   "source": [
    "data.drop_duplicates(inplace=True)\n",
    "data.shape"
   ]
  },
  {
   "cell_type": "code",
   "execution_count": 10,
   "id": "9f30616e",
   "metadata": {
    "execution": {
     "iopub.execute_input": "2025-04-26T12:46:48.523264Z",
     "iopub.status.busy": "2025-04-26T12:46:48.522911Z",
     "iopub.status.idle": "2025-04-26T12:46:49.568521Z",
     "shell.execute_reply": "2025-04-26T12:46:49.567083Z"
    },
    "papermill": {
     "duration": 1.05917,
     "end_time": "2025-04-26T12:46:49.570350",
     "exception": false,
     "start_time": "2025-04-26T12:46:48.511180",
     "status": "completed"
    },
    "tags": []
   },
   "outputs": [
    {
     "data": {
      "text/html": [
       "<div>\n",
       "<style scoped>\n",
       "    .dataframe tbody tr th:only-of-type {\n",
       "        vertical-align: middle;\n",
       "    }\n",
       "\n",
       "    .dataframe tbody tr th {\n",
       "        vertical-align: top;\n",
       "    }\n",
       "\n",
       "    .dataframe thead th {\n",
       "        text-align: right;\n",
       "    }\n",
       "</style>\n",
       "<table border=\"1\" class=\"dataframe\">\n",
       "  <thead>\n",
       "    <tr style=\"text-align: right;\">\n",
       "      <th></th>\n",
       "      <th>GENDER</th>\n",
       "      <th>AGE</th>\n",
       "      <th>SMOKING</th>\n",
       "      <th>YELLOW_FINGERS</th>\n",
       "      <th>ANXIETY</th>\n",
       "      <th>PEER_PRESSURE</th>\n",
       "      <th>CHRONIC DISEASE</th>\n",
       "      <th>FATIGUE</th>\n",
       "      <th>ALLERGY</th>\n",
       "      <th>WHEEZING</th>\n",
       "      <th>ALCOHOL CONSUMING</th>\n",
       "      <th>COUGHING</th>\n",
       "      <th>SHORTNESS OF BREATH</th>\n",
       "      <th>SWALLOWING DIFFICULTY</th>\n",
       "      <th>CHEST PAIN</th>\n",
       "      <th>LUNG_CANCER</th>\n",
       "    </tr>\n",
       "  </thead>\n",
       "  <tbody>\n",
       "    <tr>\n",
       "      <th>0</th>\n",
       "      <td>1</td>\n",
       "      <td>69</td>\n",
       "      <td>1</td>\n",
       "      <td>2</td>\n",
       "      <td>2</td>\n",
       "      <td>1</td>\n",
       "      <td>1</td>\n",
       "      <td>2</td>\n",
       "      <td>1</td>\n",
       "      <td>2</td>\n",
       "      <td>2</td>\n",
       "      <td>2</td>\n",
       "      <td>2</td>\n",
       "      <td>2</td>\n",
       "      <td>2</td>\n",
       "      <td>1</td>\n",
       "    </tr>\n",
       "    <tr>\n",
       "      <th>1</th>\n",
       "      <td>1</td>\n",
       "      <td>74</td>\n",
       "      <td>2</td>\n",
       "      <td>1</td>\n",
       "      <td>1</td>\n",
       "      <td>1</td>\n",
       "      <td>2</td>\n",
       "      <td>2</td>\n",
       "      <td>2</td>\n",
       "      <td>1</td>\n",
       "      <td>1</td>\n",
       "      <td>1</td>\n",
       "      <td>2</td>\n",
       "      <td>2</td>\n",
       "      <td>2</td>\n",
       "      <td>1</td>\n",
       "    </tr>\n",
       "    <tr>\n",
       "      <th>2</th>\n",
       "      <td>0</td>\n",
       "      <td>59</td>\n",
       "      <td>1</td>\n",
       "      <td>1</td>\n",
       "      <td>1</td>\n",
       "      <td>2</td>\n",
       "      <td>1</td>\n",
       "      <td>2</td>\n",
       "      <td>1</td>\n",
       "      <td>2</td>\n",
       "      <td>1</td>\n",
       "      <td>2</td>\n",
       "      <td>2</td>\n",
       "      <td>1</td>\n",
       "      <td>2</td>\n",
       "      <td>0</td>\n",
       "    </tr>\n",
       "    <tr>\n",
       "      <th>3</th>\n",
       "      <td>1</td>\n",
       "      <td>63</td>\n",
       "      <td>2</td>\n",
       "      <td>2</td>\n",
       "      <td>2</td>\n",
       "      <td>1</td>\n",
       "      <td>1</td>\n",
       "      <td>1</td>\n",
       "      <td>1</td>\n",
       "      <td>1</td>\n",
       "      <td>2</td>\n",
       "      <td>1</td>\n",
       "      <td>1</td>\n",
       "      <td>2</td>\n",
       "      <td>2</td>\n",
       "      <td>0</td>\n",
       "    </tr>\n",
       "    <tr>\n",
       "      <th>4</th>\n",
       "      <td>0</td>\n",
       "      <td>63</td>\n",
       "      <td>1</td>\n",
       "      <td>2</td>\n",
       "      <td>1</td>\n",
       "      <td>1</td>\n",
       "      <td>1</td>\n",
       "      <td>1</td>\n",
       "      <td>1</td>\n",
       "      <td>2</td>\n",
       "      <td>1</td>\n",
       "      <td>2</td>\n",
       "      <td>2</td>\n",
       "      <td>1</td>\n",
       "      <td>1</td>\n",
       "      <td>0</td>\n",
       "    </tr>\n",
       "  </tbody>\n",
       "</table>\n",
       "</div>"
      ],
      "text/plain": [
       "   GENDER  AGE  SMOKING  YELLOW_FINGERS  ANXIETY  PEER_PRESSURE  \\\n",
       "0       1   69        1               2        2              1   \n",
       "1       1   74        2               1        1              1   \n",
       "2       0   59        1               1        1              2   \n",
       "3       1   63        2               2        2              1   \n",
       "4       0   63        1               2        1              1   \n",
       "\n",
       "   CHRONIC DISEASE  FATIGUE   ALLERGY   WHEEZING  ALCOHOL CONSUMING  COUGHING  \\\n",
       "0                1         2         1         2                  2         2   \n",
       "1                2         2         2         1                  1         1   \n",
       "2                1         2         1         2                  1         2   \n",
       "3                1         1         1         1                  2         1   \n",
       "4                1         1         1         2                  1         2   \n",
       "\n",
       "   SHORTNESS OF BREATH  SWALLOWING DIFFICULTY  CHEST PAIN  LUNG_CANCER  \n",
       "0                    2                      2           2            1  \n",
       "1                    2                      2           2            1  \n",
       "2                    2                      1           2            0  \n",
       "3                    1                      2           2            0  \n",
       "4                    2                      1           1            0  "
      ]
     },
     "execution_count": 10,
     "metadata": {},
     "output_type": "execute_result"
    }
   ],
   "source": [
    "from sklearn.preprocessing import LabelEncoder\n",
    "encoder = LabelEncoder()\n",
    "data['LUNG_CANCER']=encoder.fit_transform(data['LUNG_CANCER'])\n",
    "data['GENDER']=encoder.fit_transform(data['GENDER'])\n",
    "data.head()"
   ]
  },
  {
   "cell_type": "markdown",
   "id": "d4d798cf",
   "metadata": {
    "papermill": {
     "duration": 0.008853,
     "end_time": "2025-04-26T12:46:49.588626",
     "exception": false,
     "start_time": "2025-04-26T12:46:49.579773",
     "status": "completed"
    },
    "tags": []
   },
   "source": [
    "#### **the classes are unbalanced, so we can use RandomOverSampler**"
   ]
  },
  {
   "cell_type": "code",
   "execution_count": 11,
   "id": "b80ac7ec",
   "metadata": {
    "execution": {
     "iopub.execute_input": "2025-04-26T12:46:49.608232Z",
     "iopub.status.busy": "2025-04-26T12:46:49.607608Z",
     "iopub.status.idle": "2025-04-26T12:46:49.738008Z",
     "shell.execute_reply": "2025-04-26T12:46:49.736964Z"
    },
    "papermill": {
     "duration": 0.142102,
     "end_time": "2025-04-26T12:46:49.739726",
     "exception": false,
     "start_time": "2025-04-26T12:46:49.597624",
     "status": "completed"
    },
    "tags": []
   },
   "outputs": [],
   "source": [
    "from sklearn.model_selection import train_test_split\n",
    "from imblearn.over_sampling import RandomOverSampler\n",
    "\n",
    "X=data.drop(['LUNG_CANCER'],axis=1)\n",
    "y=data['LUNG_CANCER']\n",
    "X_over,y_over=RandomOverSampler().fit_resample(X,y)\n",
    "\n",
    "X_train,X_test,y_train,y_test = train_test_split(X_over, y_over, random_state=42, stratify=y_over)"
   ]
  },
  {
   "cell_type": "code",
   "execution_count": 12,
   "id": "fb636e96",
   "metadata": {
    "execution": {
     "iopub.execute_input": "2025-04-26T12:46:49.761671Z",
     "iopub.status.busy": "2025-04-26T12:46:49.761364Z",
     "iopub.status.idle": "2025-04-26T12:46:49.769734Z",
     "shell.execute_reply": "2025-04-26T12:46:49.768740Z"
    },
    "papermill": {
     "duration": 0.020046,
     "end_time": "2025-04-26T12:46:49.771165",
     "exception": false,
     "start_time": "2025-04-26T12:46:49.751119",
     "status": "completed"
    },
    "tags": []
   },
   "outputs": [
    {
     "name": "stdout",
     "output_type": "stream",
     "text": [
      "LUNG_CANCER\n",
      "1    0.501401\n",
      "0    0.498599\n",
      "Name: proportion, dtype: float64\n"
     ]
    }
   ],
   "source": [
    "#NOW RECHECK IF CLASSES ARE UNBALANCED \n",
    "import pandas as pd\n",
    "print(pd.Series(y_train).value_counts(normalize=True))"
   ]
  },
  {
   "cell_type": "code",
   "execution_count": 13,
   "id": "79168f50",
   "metadata": {
    "execution": {
     "iopub.execute_input": "2025-04-26T12:46:49.790571Z",
     "iopub.status.busy": "2025-04-26T12:46:49.790291Z",
     "iopub.status.idle": "2025-04-26T12:46:49.795190Z",
     "shell.execute_reply": "2025-04-26T12:46:49.794183Z"
    },
    "papermill": {
     "duration": 0.016789,
     "end_time": "2025-04-26T12:46:49.797035",
     "exception": false,
     "start_time": "2025-04-26T12:46:49.780246",
     "status": "completed"
    },
    "tags": []
   },
   "outputs": [
    {
     "name": "stdout",
     "output_type": "stream",
     "text": [
      "Train shape : (357, 15)\n",
      "Test shape: (119, 15)\n"
     ]
    }
   ],
   "source": [
    "print(f'Train shape : {X_train.shape}\\nTest shape: {X_test.shape}')"
   ]
  },
  {
   "cell_type": "code",
   "execution_count": 14,
   "id": "7ba2d8ab",
   "metadata": {
    "execution": {
     "iopub.execute_input": "2025-04-26T12:46:49.817030Z",
     "iopub.status.busy": "2025-04-26T12:46:49.816624Z",
     "iopub.status.idle": "2025-04-26T12:46:49.836672Z",
     "shell.execute_reply": "2025-04-26T12:46:49.835753Z"
    },
    "papermill": {
     "duration": 0.031881,
     "end_time": "2025-04-26T12:46:49.838161",
     "exception": false,
     "start_time": "2025-04-26T12:46:49.806280",
     "status": "completed"
    },
    "tags": []
   },
   "outputs": [
    {
     "data": {
      "text/html": [
       "<div>\n",
       "<style scoped>\n",
       "    .dataframe tbody tr th:only-of-type {\n",
       "        vertical-align: middle;\n",
       "    }\n",
       "\n",
       "    .dataframe tbody tr th {\n",
       "        vertical-align: top;\n",
       "    }\n",
       "\n",
       "    .dataframe thead th {\n",
       "        text-align: right;\n",
       "    }\n",
       "</style>\n",
       "<table border=\"1\" class=\"dataframe\">\n",
       "  <thead>\n",
       "    <tr style=\"text-align: right;\">\n",
       "      <th></th>\n",
       "      <th>GENDER</th>\n",
       "      <th>AGE</th>\n",
       "      <th>SMOKING</th>\n",
       "      <th>YELLOW_FINGERS</th>\n",
       "      <th>ANXIETY</th>\n",
       "      <th>PEER_PRESSURE</th>\n",
       "      <th>CHRONIC DISEASE</th>\n",
       "      <th>FATIGUE</th>\n",
       "      <th>ALLERGY</th>\n",
       "      <th>WHEEZING</th>\n",
       "      <th>ALCOHOL CONSUMING</th>\n",
       "      <th>COUGHING</th>\n",
       "      <th>SHORTNESS OF BREATH</th>\n",
       "      <th>SWALLOWING DIFFICULTY</th>\n",
       "      <th>CHEST PAIN</th>\n",
       "    </tr>\n",
       "  </thead>\n",
       "  <tbody>\n",
       "    <tr>\n",
       "      <th>321</th>\n",
       "      <td>0</td>\n",
       "      <td>0.946397</td>\n",
       "      <td>2</td>\n",
       "      <td>1</td>\n",
       "      <td>1</td>\n",
       "      <td>1</td>\n",
       "      <td>2</td>\n",
       "      <td>2</td>\n",
       "      <td>1</td>\n",
       "      <td>1</td>\n",
       "      <td>1</td>\n",
       "      <td>1</td>\n",
       "      <td>2</td>\n",
       "      <td>1</td>\n",
       "      <td>1</td>\n",
       "    </tr>\n",
       "    <tr>\n",
       "      <th>336</th>\n",
       "      <td>0</td>\n",
       "      <td>-0.674053</td>\n",
       "      <td>2</td>\n",
       "      <td>1</td>\n",
       "      <td>2</td>\n",
       "      <td>1</td>\n",
       "      <td>1</td>\n",
       "      <td>2</td>\n",
       "      <td>1</td>\n",
       "      <td>1</td>\n",
       "      <td>1</td>\n",
       "      <td>1</td>\n",
       "      <td>1</td>\n",
       "      <td>1</td>\n",
       "      <td>1</td>\n",
       "    </tr>\n",
       "    <tr>\n",
       "      <th>334</th>\n",
       "      <td>1</td>\n",
       "      <td>0.743841</td>\n",
       "      <td>2</td>\n",
       "      <td>1</td>\n",
       "      <td>1</td>\n",
       "      <td>1</td>\n",
       "      <td>1</td>\n",
       "      <td>1</td>\n",
       "      <td>2</td>\n",
       "      <td>2</td>\n",
       "      <td>2</td>\n",
       "      <td>2</td>\n",
       "      <td>1</td>\n",
       "      <td>1</td>\n",
       "      <td>2</td>\n",
       "    </tr>\n",
       "    <tr>\n",
       "      <th>151</th>\n",
       "      <td>0</td>\n",
       "      <td>0.237450</td>\n",
       "      <td>2</td>\n",
       "      <td>2</td>\n",
       "      <td>1</td>\n",
       "      <td>2</td>\n",
       "      <td>2</td>\n",
       "      <td>1</td>\n",
       "      <td>1</td>\n",
       "      <td>1</td>\n",
       "      <td>1</td>\n",
       "      <td>1</td>\n",
       "      <td>1</td>\n",
       "      <td>1</td>\n",
       "      <td>1</td>\n",
       "    </tr>\n",
       "    <tr>\n",
       "      <th>314</th>\n",
       "      <td>0</td>\n",
       "      <td>-0.674053</td>\n",
       "      <td>2</td>\n",
       "      <td>1</td>\n",
       "      <td>2</td>\n",
       "      <td>1</td>\n",
       "      <td>1</td>\n",
       "      <td>2</td>\n",
       "      <td>1</td>\n",
       "      <td>1</td>\n",
       "      <td>1</td>\n",
       "      <td>1</td>\n",
       "      <td>1</td>\n",
       "      <td>1</td>\n",
       "      <td>1</td>\n",
       "    </tr>\n",
       "  </tbody>\n",
       "</table>\n",
       "</div>"
      ],
      "text/plain": [
       "     GENDER       AGE  SMOKING  YELLOW_FINGERS  ANXIETY  PEER_PRESSURE  \\\n",
       "321       0  0.946397        2               1        1              1   \n",
       "336       0 -0.674053        2               1        2              1   \n",
       "334       1  0.743841        2               1        1              1   \n",
       "151       0  0.237450        2               2        1              2   \n",
       "314       0 -0.674053        2               1        2              1   \n",
       "\n",
       "     CHRONIC DISEASE  FATIGUE   ALLERGY   WHEEZING  ALCOHOL CONSUMING  \\\n",
       "321                2         2         1         1                  1   \n",
       "336                1         2         1         1                  1   \n",
       "334                1         1         2         2                  2   \n",
       "151                2         1         1         1                  1   \n",
       "314                1         2         1         1                  1   \n",
       "\n",
       "     COUGHING  SHORTNESS OF BREATH  SWALLOWING DIFFICULTY  CHEST PAIN  \n",
       "321         1                    2                      1           1  \n",
       "336         1                    1                      1           1  \n",
       "334         2                    1                      1           2  \n",
       "151         1                    1                      1           1  \n",
       "314         1                    1                      1           1  "
      ]
     },
     "execution_count": 14,
     "metadata": {},
     "output_type": "execute_result"
    }
   ],
   "source": [
    "#SCALING THE AGE COLUMN\n",
    "from sklearn.preprocessing import StandardScaler\n",
    "scaler=StandardScaler()\n",
    "X_train['AGE']=scaler.fit_transform(X_train[['AGE']])\n",
    "X_test['AGE']=scaler.transform(X_test[['AGE']])\n",
    "X_train.head()"
   ]
  },
  {
   "cell_type": "markdown",
   "id": "4b8ea407",
   "metadata": {
    "papermill": {
     "duration": 0.009208,
     "end_time": "2025-04-26T12:46:49.857426",
     "exception": false,
     "start_time": "2025-04-26T12:46:49.848218",
     "status": "completed"
    },
    "tags": []
   },
   "source": [
    "## **3) TRAIN AND EVALUATE DIFFERENT MODEL**"
   ]
  },
  {
   "cell_type": "markdown",
   "id": "9e292b92",
   "metadata": {
    "papermill": {
     "duration": 0.00929,
     "end_time": "2025-04-26T12:46:49.876066",
     "exception": false,
     "start_time": "2025-04-26T12:46:49.866776",
     "status": "completed"
    },
    "tags": []
   },
   "source": [
    "### **Logistic Regression**"
   ]
  },
  {
   "cell_type": "code",
   "execution_count": 15,
   "id": "019ca59a",
   "metadata": {
    "execution": {
     "iopub.execute_input": "2025-04-26T12:46:49.896615Z",
     "iopub.status.busy": "2025-04-26T12:46:49.896236Z",
     "iopub.status.idle": "2025-04-26T12:47:03.488517Z",
     "shell.execute_reply": "2025-04-26T12:47:03.487238Z"
    },
    "papermill": {
     "duration": 13.604779,
     "end_time": "2025-04-26T12:47:03.490317",
     "exception": false,
     "start_time": "2025-04-26T12:46:49.885538",
     "status": "completed"
    },
    "tags": []
   },
   "outputs": [
    {
     "name": "stdout",
     "output_type": "stream",
     "text": [
      "Confusion matrix for Logistic Regression classifier:\n",
      " [[168  10]\n",
      " [ 20 159]]\n",
      "Recall: 0.888268156424581\n",
      "Precision:  0.9408284023668639\n",
      "F1 Score: 0.9137931034482758\n",
      "Classification Report, Logistic Regression:\n",
      "              precision    recall  f1-score   support\n",
      "\n",
      "           0       0.89      0.94      0.92       178\n",
      "           1       0.94      0.89      0.91       179\n",
      "\n",
      "    accuracy                           0.92       357\n",
      "   macro avg       0.92      0.92      0.92       357\n",
      "weighted avg       0.92      0.92      0.92       357\n",
      "\n"
     ]
    }
   ],
   "source": [
    "# TRAIN A LOGISTIC REGRESSION CLASSIFIER WITH RANDOMIZEDSEARCHCV\n",
    "from sklearn.linear_model import LogisticRegression\n",
    "from sklearn.pipeline import Pipeline\n",
    "from sklearn.model_selection import RandomizedSearchCV\n",
    "from sklearn.metrics import confusion_matrix, recall_score, precision_score, f1_score, classification_report\n",
    "from scipy.stats import uniform, randint\n",
    "from sklearn.model_selection import cross_val_predict\n",
    "\n",
    "log_reg_clf = Pipeline([\n",
    "    (\"log_reg_clf\", LogisticRegression(class_weight=\"balanced\", random_state=42, max_iter=1000)),\n",
    "])\n",
    "\n",
    "param_dist = {\n",
    "    'log_reg_clf__C': uniform(0.1, 10),\n",
    "    'log_reg_clf__penalty': ['l1', 'l2'], \n",
    "    'log_reg_clf__solver': ['liblinear', 'saga'], \n",
    "}\n",
    "\n",
    "random_search = RandomizedSearchCV(\n",
    "    log_reg_clf, param_distributions=param_dist, n_iter=100, cv=3, verbose=0, random_state=42, n_jobs=1\n",
    ")\n",
    "\n",
    "random_search.fit(X_train, y_train)\n",
    "\n",
    "best_log_reg_clf = random_search.best_estimator_\n",
    "\n",
    "y_train_pred_log_reg = cross_val_predict(best_log_reg_clf, X_train, y_train, cv=3)\n",
    "\n",
    "print(f\"Confusion matrix for Logistic Regression classifier:\\n {confusion_matrix(y_train, y_train_pred_log_reg)}\")\n",
    "\n",
    "print(f\"Recall: {recall_score(y_train, y_train_pred_log_reg)}\")\n",
    "print(f\"Precision:  {precision_score(y_train, y_train_pred_log_reg)}\")\n",
    "print(f\"F1 Score: {f1_score(y_train, y_train_pred_log_reg)}\")\n",
    "\n",
    "print(\"Classification Report, Logistic Regression:\")\n",
    "print(classification_report(y_train, y_train_pred_log_reg))\n"
   ]
  },
  {
   "cell_type": "markdown",
   "id": "a2b19ab8",
   "metadata": {
    "papermill": {
     "duration": 0.009928,
     "end_time": "2025-04-26T12:47:03.510095",
     "exception": false,
     "start_time": "2025-04-26T12:47:03.500167",
     "status": "completed"
    },
    "tags": []
   },
   "source": [
    "## **Random Forest classifier**"
   ]
  },
  {
   "cell_type": "code",
   "execution_count": 16,
   "id": "ef2c53f3",
   "metadata": {
    "execution": {
     "iopub.execute_input": "2025-04-26T12:47:03.534849Z",
     "iopub.status.busy": "2025-04-26T12:47:03.533285Z",
     "iopub.status.idle": "2025-04-26T12:47:46.918253Z",
     "shell.execute_reply": "2025-04-26T12:47:46.917135Z"
    },
    "papermill": {
     "duration": 43.409758,
     "end_time": "2025-04-26T12:47:46.929949",
     "exception": false,
     "start_time": "2025-04-26T12:47:03.520191",
     "status": "completed"
    },
    "tags": []
   },
   "outputs": [
    {
     "name": "stdout",
     "output_type": "stream",
     "text": [
      "Confusion matrix for Random Forest classifier:\n",
      " [[178   0]\n",
      " [ 19 160]]\n",
      "Recall: 0.8938547486033519\n",
      "Precision:  1.0\n",
      "F1 Score: 0.943952802359882\n",
      "Classification Report, Random Forest:\n",
      "              precision    recall  f1-score   support\n",
      "\n",
      "           0       0.90      1.00      0.95       178\n",
      "           1       1.00      0.89      0.94       179\n",
      "\n",
      "    accuracy                           0.95       357\n",
      "   macro avg       0.95      0.95      0.95       357\n",
      "weighted avg       0.95      0.95      0.95       357\n",
      "\n"
     ]
    }
   ],
   "source": [
    "# TRAIN A RANDOM FOREST CLASSIFIER WITH RANDOMIZEDSEARCHCV\n",
    "from sklearn.ensemble import RandomForestClassifier\n",
    "\n",
    "rf_clf = Pipeline([\n",
    "    (\"rf_clf\", RandomForestClassifier(class_weight=\"balanced\", random_state=42)),\n",
    "])\n",
    "\n",
    "param_dist = {\n",
    "    'rf_clf__n_estimators': randint(50, 200), \n",
    "    'rf_clf__max_depth': randint(1, 20), \n",
    "    'rf_clf__min_samples_split': randint(2, 20),  \n",
    "    'rf_clf__min_samples_leaf': randint(1, 20), \n",
    "    'rf_clf__max_features': ['auto', 'sqrt', 'log2'],  \n",
    "    'rf_clf__bootstrap': [True, False], \n",
    "}\n",
    "\n",
    "random_search = RandomizedSearchCV(\n",
    "    rf_clf, param_distributions=param_dist, n_iter=100, cv=3, verbose=0, random_state=42, n_jobs=1\n",
    ")\n",
    "\n",
    "random_search.fit(X_train, y_train)\n",
    "\n",
    "best_rf_clf = random_search.best_estimator_\n",
    "\n",
    "y_train_pred_rf = cross_val_predict(best_rf_clf, X_train, y_train, cv=3)\n",
    "\n",
    "print(f\"Confusion matrix for Random Forest classifier:\\n {confusion_matrix(y_train, y_train_pred_rf)}\")\n",
    "\n",
    "print(f\"Recall: {recall_score(y_train, y_train_pred_rf)}\")\n",
    "print(f\"Precision:  {precision_score(y_train, y_train_pred_rf)}\")\n",
    "print(f\"F1 Score: {f1_score(y_train, y_train_pred_rf)}\")\n",
    "\n",
    "print(\"Classification Report, Random Forest:\")\n",
    "print(classification_report(y_train, y_train_pred_rf))\n"
   ]
  },
  {
   "cell_type": "markdown",
   "id": "163eb0c8",
   "metadata": {
    "papermill": {
     "duration": 0.009998,
     "end_time": "2025-04-26T12:47:46.950358",
     "exception": false,
     "start_time": "2025-04-26T12:47:46.940360",
     "status": "completed"
    },
    "tags": []
   },
   "source": [
    "## **SVM**"
   ]
  },
  {
   "cell_type": "code",
   "execution_count": 17,
   "id": "285a70a0",
   "metadata": {
    "execution": {
     "iopub.execute_input": "2025-04-26T12:47:46.971084Z",
     "iopub.status.busy": "2025-04-26T12:47:46.970731Z",
     "iopub.status.idle": "2025-04-26T12:47:51.841069Z",
     "shell.execute_reply": "2025-04-26T12:47:51.839782Z"
    },
    "papermill": {
     "duration": 4.882854,
     "end_time": "2025-04-26T12:47:51.842928",
     "exception": false,
     "start_time": "2025-04-26T12:47:46.960074",
     "status": "completed"
    },
    "tags": []
   },
   "outputs": [
    {
     "name": "stdout",
     "output_type": "stream",
     "text": [
      "Confusion matrix for SVM classifier:\n",
      " [[176   2]\n",
      " [  6 173]]\n",
      "Recall: 0.9664804469273743\n",
      "Precision:  0.9885714285714285\n",
      "F1 Score: 0.9774011299435028\n",
      "Classification Report, SVM:\n",
      "              precision    recall  f1-score   support\n",
      "\n",
      "           0       0.97      0.99      0.98       178\n",
      "           1       0.99      0.97      0.98       179\n",
      "\n",
      "    accuracy                           0.98       357\n",
      "   macro avg       0.98      0.98      0.98       357\n",
      "weighted avg       0.98      0.98      0.98       357\n",
      "\n"
     ]
    }
   ],
   "source": [
    "# TRAIN A SUPPORT VECTOR MACHINE (SVM) CLASSIFIER WITH RANDOMIZEDSEARCHCV\n",
    "from sklearn.svm import SVC\n",
    "\n",
    "svm_clf = Pipeline([\n",
    "    (\"svm_clf\", SVC(class_weight=\"balanced\", random_state=42, probability=True)),\n",
    "])\n",
    "\n",
    "param_dist = {\n",
    "    'svm_clf__C': uniform(0.1, 10),  \n",
    "    'svm_clf__gamma': uniform(0.001, 1),   \n",
    "    'svm_clf__kernel': ['linear', 'poly', 'rbf'], \n",
    "    'svm_clf__degree': randint(1, 6),\n",
    "}\n",
    "\n",
    "random_search = RandomizedSearchCV(\n",
    "    svm_clf, param_distributions=param_dist, n_iter=100, cv=3, verbose=0, random_state=42, n_jobs=1\n",
    ")\n",
    "\n",
    "random_search.fit(X_train, y_train)\n",
    "\n",
    "best_svm_clf = random_search.best_estimator_\n",
    "\n",
    "y_train_pred_svm = cross_val_predict(best_svm_clf, X_train, y_train, cv=3)\n",
    "\n",
    "print(f\"Confusion matrix for SVM classifier:\\n {confusion_matrix(y_train, y_train_pred_svm)}\")\n",
    "print(f\"Recall: {recall_score(y_train, y_train_pred_svm)}\")\n",
    "print(f\"Precision:  {precision_score(y_train, y_train_pred_svm)}\")\n",
    "print(f\"F1 Score: {f1_score(y_train, y_train_pred_svm)}\")\n",
    "\n",
    "print(\"Classification Report, SVM:\")\n",
    "print(classification_report(y_train, y_train_pred_svm))\n"
   ]
  },
  {
   "cell_type": "markdown",
   "id": "aaf3a600",
   "metadata": {
    "papermill": {
     "duration": 0.009408,
     "end_time": "2025-04-26T12:47:51.862677",
     "exception": false,
     "start_time": "2025-04-26T12:47:51.853269",
     "status": "completed"
    },
    "tags": []
   },
   "source": [
    "## **Gradient Boosting Classifier**"
   ]
  },
  {
   "cell_type": "code",
   "execution_count": 18,
   "id": "56ada3c7",
   "metadata": {
    "execution": {
     "iopub.execute_input": "2025-04-26T12:47:51.884139Z",
     "iopub.status.busy": "2025-04-26T12:47:51.883824Z",
     "iopub.status.idle": "2025-04-26T12:48:10.989622Z",
     "shell.execute_reply": "2025-04-26T12:48:10.988079Z"
    },
    "papermill": {
     "duration": 19.118301,
     "end_time": "2025-04-26T12:48:10.991368",
     "exception": false,
     "start_time": "2025-04-26T12:47:51.873067",
     "status": "completed"
    },
    "tags": []
   },
   "outputs": [
    {
     "name": "stdout",
     "output_type": "stream",
     "text": [
      "Confusion matrix for Gradient Boosting classifier:\n",
      " [[174   4]\n",
      " [ 16 163]]\n",
      "Recall: 0.9106145251396648\n",
      "Precision:  0.9760479041916168\n",
      "F1 Score: 0.9421965317919075\n",
      "Classification Report, Gradient Boosting:\n",
      "              precision    recall  f1-score   support\n",
      "\n",
      "           0       0.92      0.98      0.95       178\n",
      "           1       0.98      0.91      0.94       179\n",
      "\n",
      "    accuracy                           0.94       357\n",
      "   macro avg       0.95      0.94      0.94       357\n",
      "weighted avg       0.95      0.94      0.94       357\n",
      "\n"
     ]
    }
   ],
   "source": [
    "from sklearn.ensemble import GradientBoostingClassifier\n",
    "\n",
    "gb_clf = Pipeline([\n",
    "    (\"gb_clf\", GradientBoostingClassifier(random_state=42)),\n",
    "])\n",
    "\n",
    "param_dist = {\n",
    "    'gb_clf__n_estimators': randint(50, 200),\n",
    "    'gb_clf__learning_rate': uniform(0.01, 0.3),\n",
    "    'gb_clf__max_depth': randint(3, 12),\n",
    "    'gb_clf__min_samples_split': randint(2, 20),\n",
    "    'gb_clf__min_samples_leaf': randint(1, 20),\n",
    "    'gb_clf__subsample': uniform(0.5, 1.0),\n",
    "    'gb_clf__max_features': ['auto', 'sqrt', 'log2'],\n",
    "}\n",
    "\n",
    "random_search = RandomizedSearchCV(\n",
    "    gb_clf, param_distributions=param_dist, n_iter=100, cv=3, verbose=0, random_state=42, n_jobs=1\n",
    ")\n",
    "\n",
    "random_search.fit(X_train, y_train)\n",
    "\n",
    "best_gb_clf = random_search.best_estimator_\n",
    "\n",
    "y_train_pred_gb = cross_val_predict(best_gb_clf, X_train, y_train, cv=3)\n",
    "\n",
    "print(f\"Confusion matrix for Gradient Boosting classifier:\\n {confusion_matrix(y_train, y_train_pred_gb)}\")\n",
    "print(f\"Recall: {recall_score(y_train, y_train_pred_gb)}\")\n",
    "print(f\"Precision:  {precision_score(y_train, y_train_pred_gb)}\")\n",
    "print(f\"F1 Score: {f1_score(y_train, y_train_pred_gb)}\")\n",
    "print(\"Classification Report, Gradient Boosting:\")\n",
    "print(classification_report(y_train, y_train_pred_gb))\n"
   ]
  },
  {
   "cell_type": "markdown",
   "id": "d37648b0",
   "metadata": {
    "papermill": {
     "duration": 0.009324,
     "end_time": "2025-04-26T12:48:11.010758",
     "exception": false,
     "start_time": "2025-04-26T12:48:11.001434",
     "status": "completed"
    },
    "tags": []
   },
   "source": [
    "## **Decision Tree**"
   ]
  },
  {
   "cell_type": "code",
   "execution_count": 19,
   "id": "97f4c5dc",
   "metadata": {
    "execution": {
     "iopub.execute_input": "2025-04-26T12:48:11.034811Z",
     "iopub.status.busy": "2025-04-26T12:48:11.034419Z",
     "iopub.status.idle": "2025-04-26T12:48:12.813030Z",
     "shell.execute_reply": "2025-04-26T12:48:12.811619Z"
    },
    "papermill": {
     "duration": 1.79225,
     "end_time": "2025-04-26T12:48:12.814788",
     "exception": false,
     "start_time": "2025-04-26T12:48:11.022538",
     "status": "completed"
    },
    "tags": []
   },
   "outputs": [
    {
     "name": "stdout",
     "output_type": "stream",
     "text": [
      "Confusion matrix for Decision Tree classifier:\n",
      " [[176   2]\n",
      " [ 19 160]]\n",
      "Recall: 0.8938547486033519\n",
      "Precision:  0.9876543209876543\n",
      "F1 Score: 0.93841642228739\n",
      "Classification Report, Decision Tree:\n",
      "              precision    recall  f1-score   support\n",
      "\n",
      "           0       0.90      0.99      0.94       178\n",
      "           1       0.99      0.89      0.94       179\n",
      "\n",
      "    accuracy                           0.94       357\n",
      "   macro avg       0.95      0.94      0.94       357\n",
      "weighted avg       0.95      0.94      0.94       357\n",
      "\n"
     ]
    }
   ],
   "source": [
    "# TRAIN A DECISION TREE CLASSIFIER WITH RANDOMIZEDSEARCHCV\n",
    "from sklearn.tree import DecisionTreeClassifier\n",
    "\n",
    "dt_clf = Pipeline([\n",
    "    (\"dt_clf\", DecisionTreeClassifier(class_weight=\"balanced\", random_state=42)),\n",
    "])\n",
    "\n",
    "param_dist = {\n",
    "    'dt_clf__max_depth': randint(1, 20),  # Profondità massima degli alberi\n",
    "    'dt_clf__min_samples_split': randint(2, 20),  # Minimo numero di campioni per dividere un nodo\n",
    "    'dt_clf__min_samples_leaf': randint(1, 20),  # Minimo numero di campioni per essere una foglia\n",
    "    'dt_clf__max_features': ['auto', 'sqrt', 'log2'],  # Numero massimo di caratteristiche da considerare per ogni divisione\n",
    "    'dt_clf__criterion': ['gini', 'entropy'],  # Funzione di impurità\n",
    "}\n",
    "\n",
    "random_search = RandomizedSearchCV(\n",
    "    dt_clf, param_distributions=param_dist, n_iter=100, cv=3, verbose=0, random_state=42, n_jobs=1\n",
    ")\n",
    "\n",
    "random_search.fit(X_train, y_train)\n",
    "\n",
    "best_dt_clf = random_search.best_estimator_\n",
    "\n",
    "y_train_pred_dt = cross_val_predict(best_dt_clf, X_train, y_train, cv=3)\n",
    "\n",
    "print(f\"Confusion matrix for Decision Tree classifier:\\n {confusion_matrix(y_train, y_train_pred_dt)}\")\n",
    "\n",
    "print(f\"Recall: {recall_score(y_train, y_train_pred_dt)}\")\n",
    "print(f\"Precision:  {precision_score(y_train, y_train_pred_dt)}\")\n",
    "print(f\"F1 Score: {f1_score(y_train, y_train_pred_dt)}\")\n",
    "\n",
    "print(\"Classification Report, Decision Tree:\")\n",
    "print(classification_report(y_train, y_train_pred_dt))\n"
   ]
  },
  {
   "cell_type": "markdown",
   "id": "37178b7e",
   "metadata": {
    "papermill": {
     "duration": 0.010776,
     "end_time": "2025-04-26T12:48:12.835596",
     "exception": false,
     "start_time": "2025-04-26T12:48:12.824820",
     "status": "completed"
    },
    "tags": []
   },
   "source": [
    "## **XGB**"
   ]
  },
  {
   "cell_type": "code",
   "execution_count": 20,
   "id": "37064b6d",
   "metadata": {
    "execution": {
     "iopub.execute_input": "2025-04-26T12:48:12.857502Z",
     "iopub.status.busy": "2025-04-26T12:48:12.857146Z",
     "iopub.status.idle": "2025-04-26T12:48:21.065390Z",
     "shell.execute_reply": "2025-04-26T12:48:21.064329Z"
    },
    "papermill": {
     "duration": 8.221258,
     "end_time": "2025-04-26T12:48:21.067259",
     "exception": false,
     "start_time": "2025-04-26T12:48:12.846001",
     "status": "completed"
    },
    "tags": []
   },
   "outputs": [
    {
     "name": "stdout",
     "output_type": "stream",
     "text": [
      "Confusion matrix for XGBoost classifier:\n",
      " [[174   4]\n",
      " [ 20 159]]\n",
      "Recall: 0.888268156424581\n",
      "Precision: 0.9754601226993865\n",
      "F1 Score: 0.9298245614035088\n",
      "Classification Report, XGBoost:\n",
      "              precision    recall  f1-score   support\n",
      "\n",
      "           0       0.90      0.98      0.94       178\n",
      "           1       0.98      0.89      0.93       179\n",
      "\n",
      "    accuracy                           0.93       357\n",
      "   macro avg       0.94      0.93      0.93       357\n",
      "weighted avg       0.94      0.93      0.93       357\n",
      "\n"
     ]
    }
   ],
   "source": [
    "import xgboost as xgb\n",
    "\n",
    "xgb_clf = Pipeline([\n",
    "    (\"xgb_clf\", xgb.XGBClassifier(scale_pos_weight=1, random_state=42)),\n",
    "])\n",
    "\n",
    "param_dist = {\n",
    "    'xgb_clf__learning_rate': uniform(0.01, 0.3),\n",
    "    'xgb_clf__n_estimators': randint(50, 500),\n",
    "    'xgb_clf__max_depth': randint(3, 20),\n",
    "    'xgb_clf__min_child_weight': randint(1, 10),\n",
    "    'xgb_clf__subsample': uniform(0.5, 1.0),\n",
    "    'xgb_clf__colsample_bytree': uniform(0.5, 1.0),\n",
    "    'xgb_clf__gamma': uniform(0, 1),\n",
    "}\n",
    "\n",
    "random_search = RandomizedSearchCV(\n",
    "    xgb_clf, param_distributions=param_dist, n_iter=100, cv=3, verbose=0, random_state=42, n_jobs=1\n",
    ")\n",
    "\n",
    "random_search.fit(X_train, y_train)\n",
    "\n",
    "best_xgb_clf = random_search.best_estimator_\n",
    "\n",
    "y_train_pred_xgb = cross_val_predict(best_xgb_clf, X_train, y_train, cv=3)\n",
    "\n",
    "print(f\"Confusion matrix for XGBoost classifier:\\n {confusion_matrix(y_train, y_train_pred_xgb)}\")\n",
    "print(f\"Recall: {recall_score(y_train, y_train_pred_xgb)}\")\n",
    "print(f\"Precision: {precision_score(y_train, y_train_pred_xgb)}\")\n",
    "print(f\"F1 Score: {f1_score(y_train, y_train_pred_xgb)}\")\n",
    "\n",
    "print(\"Classification Report, XGBoost:\")\n",
    "print(classification_report(y_train, y_train_pred_xgb))\n"
   ]
  },
  {
   "cell_type": "code",
   "execution_count": 21,
   "id": "c1d61b5a",
   "metadata": {
    "execution": {
     "iopub.execute_input": "2025-04-26T12:48:21.088408Z",
     "iopub.status.busy": "2025-04-26T12:48:21.087805Z",
     "iopub.status.idle": "2025-04-26T12:48:21.101935Z",
     "shell.execute_reply": "2025-04-26T12:48:21.100753Z"
    },
    "papermill": {
     "duration": 0.026101,
     "end_time": "2025-04-26T12:48:21.103388",
     "exception": false,
     "start_time": "2025-04-26T12:48:21.077287",
     "status": "completed"
    },
    "tags": []
   },
   "outputs": [
    {
     "name": "stdout",
     "output_type": "stream",
     "text": [
      "F1 Score Logistic Regression: 0.9137931034482758\n",
      "F1 Score Random Forest: 0.943952802359882\n",
      "F1 Score SVM: 0.9774011299435028\n",
      "F1 Score Gradient Boosting: 0.9421965317919075\n",
      "F1 Score decision Tree: 0.93841642228739\n",
      "F1 Score XGB: 0.9298245614035088\n"
     ]
    }
   ],
   "source": [
    "#COMPARE ALL THE F1 SCORE\n",
    "print(f\"F1 Score Logistic Regression: {f1_score(y_train, y_train_pred_log_reg)}\")\n",
    "print(f\"F1 Score Random Forest: {f1_score(y_train, y_train_pred_rf)}\")\n",
    "print(f\"F1 Score SVM: {f1_score(y_train, y_train_pred_svm)}\")\n",
    "print(f\"F1 Score Gradient Boosting: {f1_score(y_train, y_train_pred_gb)}\")\n",
    "print(f\"F1 Score decision Tree: {f1_score(y_train, y_train_pred_dt)}\")\n",
    "print(f\"F1 Score XGB: {f1_score(y_train, y_train_pred_xgb)}\")"
   ]
  },
  {
   "cell_type": "markdown",
   "id": "fc46a9b9",
   "metadata": {
    "papermill": {
     "duration": 0.01021,
     "end_time": "2025-04-26T12:48:21.123478",
     "exception": false,
     "start_time": "2025-04-26T12:48:21.113268",
     "status": "completed"
    },
    "tags": []
   },
   "source": [
    "### **We can see that Gradient Boosting e Ranfom Forest sono i modelli migliori**"
   ]
  },
  {
   "cell_type": "markdown",
   "id": "d155d5dd",
   "metadata": {
    "papermill": {
     "duration": 0.010964,
     "end_time": "2025-04-26T12:48:21.144201",
     "exception": false,
     "start_time": "2025-04-26T12:48:21.133237",
     "status": "completed"
    },
    "tags": []
   },
   "source": [
    "## **5) We can try an essemble between Gradient Boosting and Random Forest**"
   ]
  },
  {
   "cell_type": "code",
   "execution_count": 22,
   "id": "cc589c13",
   "metadata": {
    "execution": {
     "iopub.execute_input": "2025-04-26T12:48:21.167850Z",
     "iopub.status.busy": "2025-04-26T12:48:21.166799Z",
     "iopub.status.idle": "2025-04-26T12:48:27.243192Z",
     "shell.execute_reply": "2025-04-26T12:48:27.239425Z"
    },
    "papermill": {
     "duration": 6.089692,
     "end_time": "2025-04-26T12:48:27.245259",
     "exception": false,
     "start_time": "2025-04-26T12:48:21.155567",
     "status": "completed"
    },
    "tags": []
   },
   "outputs": [
    {
     "name": "stdout",
     "output_type": "stream",
     "text": [
      "Confusion matrix for stacking classifier:\n",
      " [[176   2]\n",
      " [  8 171]]\n",
      "Recall: 0.9553072625698324\n",
      "Precision:  0.9884393063583815\n",
      "F1 Score: 0.9715909090909092\n",
      "Classification Report, Stacking Classifier:\n",
      "              precision    recall  f1-score   support\n",
      "\n",
      "           0       0.96      0.99      0.97       178\n",
      "           1       0.99      0.96      0.97       179\n",
      "\n",
      "    accuracy                           0.97       357\n",
      "   macro avg       0.97      0.97      0.97       357\n",
      "weighted avg       0.97      0.97      0.97       357\n",
      "\n"
     ]
    }
   ],
   "source": [
    "from sklearn.ensemble import StackingClassifier\n",
    "\n",
    "base_learners = [\n",
    "    ('svm', best_svm_clf),\n",
    "    ('gb', best_gb_clf),\n",
    "    ('xgb', best_xgb_clf)\n",
    "]\n",
    "\n",
    "stacking_clf = StackingClassifier(\n",
    "    estimators=base_learners,\n",
    "    final_estimator=LogisticRegression(class_weight=\"balanced\", random_state=42)\n",
    ")\n",
    "\n",
    "stacking_clf.fit(X_train, y_train)\n",
    "\n",
    "y_train_pred_stacking = cross_val_predict(stacking_clf, X_train, y_train, cv=3)\n",
    "\n",
    "print(f\"Confusion matrix for stacking classifier:\\n {confusion_matrix(y_train, y_train_pred_stacking)}\")\n",
    "print(f\"Recall: {recall_score(y_train, y_train_pred_stacking)}\")\n",
    "print(f\"Precision:  {precision_score(y_train, y_train_pred_stacking)}\")\n",
    "print(f\"F1 Score: {f1_score(y_train, y_train_pred_stacking)}\")\n",
    "print(\"Classification Report, Stacking Classifier:\")\n",
    "print(classification_report(y_train, y_train_pred_stacking))\n"
   ]
  },
  {
   "cell_type": "markdown",
   "id": "543ae7f0",
   "metadata": {
    "papermill": {
     "duration": 0.016816,
     "end_time": "2025-04-26T12:48:27.286837",
     "exception": false,
     "start_time": "2025-04-26T12:48:27.270021",
     "status": "completed"
    },
    "tags": []
   },
   "source": [
    "## Final Prediction on the test set"
   ]
  },
  {
   "cell_type": "code",
   "execution_count": 23,
   "id": "200727b3",
   "metadata": {
    "execution": {
     "iopub.execute_input": "2025-04-26T12:48:27.322163Z",
     "iopub.status.busy": "2025-04-26T12:48:27.321610Z",
     "iopub.status.idle": "2025-04-26T12:48:30.012468Z",
     "shell.execute_reply": "2025-04-26T12:48:30.011741Z"
    },
    "papermill": {
     "duration": 2.710176,
     "end_time": "2025-04-26T12:48:30.014548",
     "exception": false,
     "start_time": "2025-04-26T12:48:27.304372",
     "status": "completed"
    },
    "tags": []
   },
   "outputs": [
    {
     "name": "stdout",
     "output_type": "stream",
     "text": [
      "Confusion matrix for stacking classifier:\n",
      " [[56  4]\n",
      " [10 49]]\n",
      "Recall: 0.8305084745762712\n",
      "Precision:  0.9245283018867925\n",
      "F1 Score: 0.875\n",
      "Classification Report, Stacking Classifier:\n",
      "              precision    recall  f1-score   support\n",
      "\n",
      "           0       0.85      0.93      0.89        60\n",
      "           1       0.92      0.83      0.88        59\n",
      "\n",
      "    accuracy                           0.88       119\n",
      "   macro avg       0.89      0.88      0.88       119\n",
      "weighted avg       0.89      0.88      0.88       119\n",
      "\n"
     ]
    }
   ],
   "source": [
    "y_test_pred_stacking = cross_val_predict(stacking_clf, X_test, y_test, cv=3)\n",
    "\n",
    "print(f\"Confusion matrix for stacking classifier:\\n {confusion_matrix(y_test, y_test_pred_stacking)}\")\n",
    "print(f\"Recall: {recall_score(y_test, y_test_pred_stacking)}\")\n",
    "print(f\"Precision:  {precision_score(y_test, y_test_pred_stacking)}\")\n",
    "print(f\"F1 Score: {f1_score(y_test, y_test_pred_stacking)}\")\n",
    "print(\"Classification Report, Stacking Classifier:\")\n",
    "print(classification_report(y_test, y_test_pred_stacking))"
   ]
  },
  {
   "cell_type": "markdown",
   "id": "94c7715e",
   "metadata": {
    "papermill": {
     "duration": 0.018278,
     "end_time": "2025-04-26T12:48:30.051405",
     "exception": false,
     "start_time": "2025-04-26T12:48:30.033127",
     "status": "completed"
    },
    "tags": []
   },
   "source": [
    "## **6) THESHOLD TUNING**"
   ]
  },
  {
   "cell_type": "code",
   "execution_count": 24,
   "id": "65af5645",
   "metadata": {
    "execution": {
     "iopub.execute_input": "2025-04-26T12:48:30.091855Z",
     "iopub.status.busy": "2025-04-26T12:48:30.091139Z",
     "iopub.status.idle": "2025-04-26T12:48:30.420738Z",
     "shell.execute_reply": "2025-04-26T12:48:30.419389Z"
    },
    "papermill": {
     "duration": 0.350461,
     "end_time": "2025-04-26T12:48:30.422212",
     "exception": false,
     "start_time": "2025-04-26T12:48:30.071751",
     "status": "completed"
    },
    "tags": []
   },
   "outputs": [
    {
     "name": "stdout",
     "output_type": "stream",
     "text": [
      "AUC Score: 0.9951\n"
     ]
    },
    {
     "data": {
      "image/png": "[encoded data removed]",
      "text/plain": [
       "<Figure size 800x600 with 1 Axes>"
      ]
     },
     "metadata": {},
     "output_type": "display_data"
    },
    {
     "name": "stdout",
     "output_type": "stream",
     "text": [
      "Best threshold based on Youden's J statistic: 0.0693\n",
      "Confusion matrix at new threshold 0.06928280978944056:\n",
      " [[59  1]\n",
      " [ 1 58]]\n",
      "Recall: 0.9830508474576272\n",
      "Precision: 0.9830508474576272\n",
      "F1 Score: 0.9830508474576272\n",
      "              precision    recall  f1-score   support\n",
      "\n",
      "           0       0.98      0.98      0.98        60\n",
      "           1       0.98      0.98      0.98        59\n",
      "\n",
      "    accuracy                           0.98       119\n",
      "   macro avg       0.98      0.98      0.98       119\n",
      "weighted avg       0.98      0.98      0.98       119\n",
      "\n"
     ]
    }
   ],
   "source": [
    "from sklearn.metrics import roc_curve, roc_auc_score\n",
    "import matplotlib.pyplot as plt\n",
    "\n",
    "y_test_proba = stacking_clf.predict_proba(X_test)[:, 1]\n",
    "\n",
    "fpr, tpr, thresholds = roc_curve(y_test, y_test_proba)\n",
    "\n",
    "roc_auc = roc_auc_score(y_test, y_test_proba)\n",
    "print(f\"AUC Score: {roc_auc:.4f}\")\n",
    "\n",
    "plt.figure(figsize=(8,6))\n",
    "plt.plot(fpr, tpr, color='blue', label=f'ROC curve (area = {roc_auc:.2f})')\n",
    "plt.plot([0, 1], [0, 1], color='red', linestyle='--')\n",
    "plt.xlabel('False Positive Rate')\n",
    "plt.ylabel('True Positive Rate')\n",
    "plt.title('Receiver Operating Characteristic (ROC) Curve')\n",
    "plt.legend()\n",
    "plt.grid()\n",
    "plt.show()\n",
    "\n",
    "J_scores = tpr - fpr\n",
    "best_threshold = thresholds[np.argmax(J_scores)]\n",
    "print(f\"Best threshold based on Youden's J statistic: {best_threshold:.4f}\")\n",
    "\n",
    "y_test_pred_new_threshold = (y_test_proba >= best_threshold).astype(int)\n",
    "\n",
    "print(f\"Confusion matrix at new threshold {best_threshold}:\\n {confusion_matrix(y_test, y_test_pred_new_threshold)}\")\n",
    "print(f\"Recall: {recall_score(y_test, y_test_pred_new_threshold)}\")\n",
    "print(f\"Precision: {precision_score(y_test, y_test_pred_new_threshold)}\")\n",
    "print(f\"F1 Score: {f1_score(y_test, y_test_pred_new_threshold)}\")\n",
    "print(classification_report(y_test, y_test_pred_new_threshold))\n",
    "\n"
   ]
  },
  {
   "cell_type": "markdown",
   "id": "9c89ba9f",
   "metadata": {
    "papermill": {
     "duration": 0.012263,
     "end_time": "2025-04-26T12:48:30.446202",
     "exception": false,
     "start_time": "2025-04-26T12:48:30.433939",
     "status": "completed"
    },
    "tags": []
   },
   "source": [
    "## **7) SAVE THE FINAL MODEL**"
   ]
  },
  {
   "cell_type": "code",
   "execution_count": 25,
   "id": "83c38ba1",
   "metadata": {
    "execution": {
     "iopub.execute_input": "2025-04-26T12:48:30.469934Z",
     "iopub.status.busy": "2025-04-26T12:48:30.469517Z",
     "iopub.status.idle": "2025-04-26T12:48:30.518027Z",
     "shell.execute_reply": "2025-04-26T12:48:30.516814Z"
    },
    "papermill": {
     "duration": 0.066743,
     "end_time": "2025-04-26T12:48:30.524025",
     "exception": false,
     "start_time": "2025-04-26T12:48:30.457282",
     "status": "completed"
    },
    "tags": []
   },
   "outputs": [
    {
     "data": {
      "text/plain": [
       "['stacking_model_with_threshold.pkl']"
      ]
     },
     "execution_count": 25,
     "metadata": {},
     "output_type": "execute_result"
    }
   ],
   "source": [
    "import joblib\n",
    "\n",
    "joblib.dump({'model': stacking_clf, 'threshold': best_threshold}, 'stacking_model_with_threshold.pkl')"
   ]
  }
 ],
 "metadata": {
  "kaggle": {
   "accelerator": "none",
   "dataSources": [
    {
     "datasetId": 1623385,
     "sourceId": 2668247,
     "sourceType": "datasetVersion"
    }
   ],
   "dockerImageVersionId": 31012,
   "isGpuEnabled": false,
   "isInternetEnabled": true,
   "language": "python",
   "sourceType": "notebook"
  },
  "kernelspec": {
   "display_name": "Python 3",
   "language": "python",
   "name": "python3"
  },
  "language_info": {
   "codemirror_mode": {
    "name": "ipython",
    "version": 3
   },
   "file_extension": ".py",
   "mimetype": "text/x-python",
   "name": "python",
   "nbconvert_exporter": "python",
   "pygments_lexer": "ipython3",
   "version": "3.11.11"
  },
  "papermill": {
   "default_parameters": {},
   "duration": 155.337716,
   "end_time": "2025-04-26T12:48:33.769893",
   "environment_variables": {},
   "exception": null,
   "input_path": "__notebook__.ipynb",
   "output_path": "__notebook__.ipynb",
   "parameters": {},
   "start_time": "2025-04-26T12:45:58.432177",
   "version": "2.6.0"
  }
 },
 "nbformat": 4,
 "nbformat_minor": 5
}
